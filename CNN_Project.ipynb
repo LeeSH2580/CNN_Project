{
 "cells": [
  {
   "cell_type": "code",
   "execution_count": null,
   "metadata": {
    "colab": {
     "base_uri": "https://localhost:8080/"
    },
    "executionInfo": {
     "elapsed": 17143,
     "status": "ok",
     "timestamp": 1655687398711,
     "user": {
      "displayName": "이승훈",
      "userId": "17172641980192665126"
     },
     "user_tz": -540
    },
    "id": "zRj57rZuwNa8",
    "outputId": "a709fd5c-568e-4ca2-d0a7-82da2306af0c"
   },
   "outputs": [],
   "source": [
    "from google.colab import drive\n",
    "drive.mount('/content/drive')"
   ]
  },
  {
   "cell_type": "markdown",
   "metadata": {
    "id": "qHEOmv6TNseJ"
   },
   "source": [
    "내가 만들어 보기"
   ]
  },
  {
   "cell_type": "code",
   "execution_count": null,
   "metadata": {
    "executionInfo": {
     "elapsed": 968,
     "status": "ok",
     "timestamp": 1655687522520,
     "user": {
      "displayName": "이승훈",
      "userId": "17172641980192665126"
     },
     "user_tz": -540
    },
    "id": "V1VL_Owo8dxz"
   },
   "outputs": [],
   "source": [
    "import pandas as pd\n",
    "import numpy as np\n",
    "\n",
    "# handle os specific\n",
    "import os\n",
    "\n",
    "# randomization\n",
    "import random\n",
    "\n",
    "# visualization imports \n",
    "import seaborn as sns\n",
    "import matplotlib.pyplot as plt\n",
    "from matplotlib.image import imread\n",
    "%matplotlib inline\n",
    "\n",
    "# consistent plot size\n",
    "from pylab import rcParams\n",
    "rcParams['figure.figsize'] = 17,7\n",
    "rcParams['axes.labelsize'] = 14\n",
    "rcParams['xtick.labelsize'] = 8\n",
    "rcParams['ytick.labelsize'] = 8\n",
    "rcParams['axes.titlesize'] = 16\n",
    " \n",
    "# ignore deprecated and future warnings\n",
    "import warnings\n",
    "warnings.filterwarnings(action='ignore',category=DeprecationWarning)\n",
    "warnings.filterwarnings(action='ignore',category=FutureWarning)\n",
    "\n"
   ]
  },
  {
   "cell_type": "code",
   "execution_count": null,
   "metadata": {
    "colab": {
     "base_uri": "https://localhost:8080/"
    },
    "executionInfo": {
     "elapsed": 14,
     "status": "ok",
     "timestamp": 1655581625782,
     "user": {
      "displayName": "이승훈",
      "userId": "17172641980192665126"
     },
     "user_tz": -540
    },
    "id": "fhPonAsq8d0i",
    "outputId": "220e746f-8875-4ec8-bfdb-4a370680569f"
   },
   "outputs": [],
   "source": [
    "# check the root dir\n",
    "os.listdir('/content/drive/MyDrive/')"
   ]
  },
  {
   "cell_type": "code",
   "execution_count": null,
   "metadata": {
    "executionInfo": {
     "elapsed": 406,
     "status": "ok",
     "timestamp": 1655687576974,
     "user": {
      "displayName": "이승훈",
      "userId": "17172641980192665126"
     },
     "user_tz": -540
    },
    "id": "mqrznk7fgJQr"
   },
   "outputs": [],
   "source": [
    "# set the path\n",
    "ROOT_DIR = '/content/drive/MyDrive/'\n",
    "FILE_PATH = os.path.join(ROOT_DIR,'Term_Dataset')\n",
    "FILE_PATH1 = os.path.join(ROOT_DIR,'Term_Test')"
   ]
  },
  {
   "cell_type": "code",
   "execution_count": null,
   "metadata": {
    "colab": {
     "base_uri": "https://localhost:8080/"
    },
    "executionInfo": {
     "elapsed": 486,
     "status": "ok",
     "timestamp": 1655687647637,
     "user": {
      "displayName": "이승훈",
      "userId": "17172641980192665126"
     },
     "user_tz": -540
    },
    "id": "OJbV2pE7gJTL",
    "outputId": "2073e6f5-ac2a-4f93-8ad5-be52525d896a"
   },
   "outputs": [],
   "source": [
    "# LIST DIRCTORIES INSIDE THE FILE PATH\n",
    "os.listdir(FILE_PATH)"
   ]
  },
  {
   "cell_type": "code",
   "execution_count": null,
   "metadata": {
    "executionInfo": {
     "elapsed": 348,
     "status": "ok",
     "timestamp": 1655687635661,
     "user": {
      "displayName": "이승훈",
      "userId": "17172641980192665126"
     },
     "user_tz": -540
    },
    "id": "0NLJm2SngJV0"
   },
   "outputs": [],
   "source": [
    "# SET THE TRAINING AND THE TEST PATH\n",
    "TRAIN_IMAGES = os.path.join(FILE_PATH,'train')\n",
    "VAL_IMAGES = os.path.join(FILE_PATH,'val')\n",
    "TEST_IMAGES = os.path.join(FILE_PATH1,'test')"
   ]
  },
  {
   "cell_type": "code",
   "execution_count": null,
   "metadata": {
    "colab": {
     "base_uri": "https://localhost:8080/"
    },
    "executionInfo": {
     "elapsed": 543,
     "status": "ok",
     "timestamp": 1655687650606,
     "user": {
      "displayName": "이승훈",
      "userId": "17172641980192665126"
     },
     "user_tz": -540
    },
    "id": "Cb2BTPyxgJYB",
    "outputId": "4a4ffedd-ed45-47d9-844a-7bfdfea4dda2"
   },
   "outputs": [],
   "source": [
    "len(os.listdir(TRAIN_IMAGES))"
   ]
  },
  {
   "cell_type": "code",
   "execution_count": null,
   "metadata": {
    "colab": {
     "base_uri": "https://localhost:8080/"
    },
    "executionInfo": {
     "elapsed": 5,
     "status": "ok",
     "timestamp": 1655687651980,
     "user": {
      "displayName": "이승훈",
      "userId": "17172641980192665126"
     },
     "user_tz": -540
    },
    "id": "t2HBcWemgJaX",
    "outputId": "c958a3d3-c290-4f0b-a9b0-1a5fc86ce129"
   },
   "outputs": [],
   "source": [
    "len(os.listdir(VAL_IMAGES))"
   ]
  },
  {
   "cell_type": "code",
   "execution_count": null,
   "metadata": {
    "colab": {
     "base_uri": "https://localhost:8080/"
    },
    "executionInfo": {
     "elapsed": 454,
     "status": "ok",
     "timestamp": 1655688491419,
     "user": {
      "displayName": "이승훈",
      "userId": "17172641980192665126"
     },
     "user_tz": -540
    },
    "id": "x1cXHHrbrNXY",
    "outputId": "abd144ec-3b61-47c9-d4ec-854938bdd2b9"
   },
   "outputs": [],
   "source": [
    "len(os.listdir(TEST_IMAGES))"
   ]
  },
  {
   "cell_type": "code",
   "execution_count": null,
   "metadata": {
    "colab": {
     "base_uri": "https://localhost:8080/",
     "height": 363
    },
    "executionInfo": {
     "elapsed": 365,
     "status": "ok",
     "timestamp": 1655687944477,
     "user": {
      "displayName": "이승훈",
      "userId": "17172641980192665126"
     },
     "user_tz": -540
    },
    "id": "cO52eracgJdJ",
    "outputId": "caa1481a-8ec7-4541-82b5-ab4c1c58e976"
   },
   "outputs": [],
   "source": [
    "# READ THE TRAIN csv FILE CONTAINING THE SPORTS LABEL\n",
    "train_df = pd.read_csv(os.path.join(FILE_PATH,'train_data.csv'))\n",
    "train_df.head(10)"
   ]
  },
  {
   "cell_type": "code",
   "execution_count": null,
   "metadata": {
    "colab": {
     "base_uri": "https://localhost:8080/",
     "height": 206
    },
    "executionInfo": {
     "elapsed": 309,
     "status": "ok",
     "timestamp": 1655696827728,
     "user": {
      "displayName": "이승훈",
      "userId": "17172641980192665126"
     },
     "user_tz": -540
    },
    "id": "131nZdW68d44",
    "outputId": "eb8c63b2-3a14-435b-929b-1f2dec98b349"
   },
   "outputs": [],
   "source": [
    "test_df = pd.read_csv(os.path.join(FILE_PATH1,'test_data_emp.csv'))\n",
    "test_df.tail()"
   ]
  },
  {
   "cell_type": "code",
   "execution_count": null,
   "metadata": {
    "id": "kbSUPzNIplXV"
   },
   "outputs": [],
   "source": []
  },
  {
   "cell_type": "code",
   "execution_count": null,
   "metadata": {
    "colab": {
     "base_uri": "https://localhost:8080/"
    },
    "executionInfo": {
     "elapsed": 337,
     "status": "ok",
     "timestamp": 1655688636360,
     "user": {
      "displayName": "이승훈",
      "userId": "17172641980192665126"
     },
     "user_tz": -540
    },
    "id": "3xwkisePwNqe",
    "outputId": "4cf54880-1e6d-4c12-a15d-6547f472f247"
   },
   "outputs": [],
   "source": [
    "len(train_df['class'].unique())"
   ]
  },
  {
   "cell_type": "code",
   "execution_count": null,
   "metadata": {
    "colab": {
     "base_uri": "https://localhost:8080/"
    },
    "executionInfo": {
     "elapsed": 19,
     "status": "ok",
     "timestamp": 1655581658739,
     "user": {
      "displayName": "이승훈",
      "userId": "17172641980192665126"
     },
     "user_tz": -540
    },
    "id": "mOCWa6BMwNs6",
    "outputId": "4040360f-6c03-4a91-c329-3d43e00bf844"
   },
   "outputs": [],
   "source": [
    "# Extract the unique labels\n",
    "sports_labels = train_df['class'].unique()\n",
    "# LIST THE SPORTS NAME INCLUDED IN THE DATASET\n",
    "sports_labels"
   ]
  },
  {
   "cell_type": "code",
   "execution_count": null,
   "metadata": {
    "colab": {
     "base_uri": "https://localhost:8080/",
     "height": 431
    },
    "executionInfo": {
     "elapsed": 966,
     "status": "ok",
     "timestamp": 1655435500014,
     "user": {
      "displayName": "이승훈",
      "userId": "17172641980192665126"
     },
     "user_tz": -540
    },
    "id": "iB59CZGogZ6r",
    "outputId": "41cabc9d-9b0c-4a8b-d573-5fa7b702e6a8"
   },
   "outputs": [],
   "source": [
    "# CHECK ONE OF THE IMAGES -- > LETS PICK THE FIRST IN THE LIST\n",
    "plt.imshow(imread(os.path.join(TRAIN_IMAGES, 'img00008.png')));"
   ]
  },
  {
   "cell_type": "code",
   "execution_count": null,
   "metadata": {
    "colab": {
     "base_uri": "https://localhost:8080/",
     "height": 36
    },
    "executionInfo": {
     "elapsed": 15,
     "status": "ok",
     "timestamp": 1655581661814,
     "user": {
      "displayName": "이승훈",
      "userId": "17172641980192665126"
     },
     "user_tz": -540
    },
    "id": "6Sok2Fp9gZ9P",
    "outputId": "160df6e5-0b0d-4165-bd26-d591333b57a2"
   },
   "outputs": [],
   "source": [
    "# CHECK THE CLASS NAME OF THE DISPLAYED SPORT\n",
    "train_df['class'][499]"
   ]
  },
  {
   "cell_type": "code",
   "execution_count": null,
   "metadata": {
    "colab": {
     "base_uri": "https://localhost:8080/"
    },
    "executionInfo": {
     "elapsed": 8,
     "status": "ok",
     "timestamp": 1655581662784,
     "user": {
      "displayName": "이승훈",
      "userId": "17172641980192665126"
     },
     "user_tz": -540
    },
    "id": "sdBcbWj_gZ_z",
    "outputId": "01d75a49-94de-4c27-e5a6-1dca8c22eba6"
   },
   "outputs": [],
   "source": [
    "# IMAGE COUNT PER SPORT\n",
    "train_df['class'].value_counts()"
   ]
  },
  {
   "cell_type": "code",
   "execution_count": null,
   "metadata": {
    "colab": {
     "base_uri": "https://localhost:8080/",
     "height": 513
    },
    "executionInfo": {
     "elapsed": 551,
     "status": "ok",
     "timestamp": 1655435500561,
     "user": {
      "displayName": "이승훈",
      "userId": "17172641980192665126"
     },
     "user_tz": -540
    },
    "id": "OQb04Rz6gaCe",
    "outputId": "f6dde001-3f3f-4462-85ee-102677a262aa"
   },
   "outputs": [],
   "source": [
    "# VISUALIZE IMAGE COUNT PER SPORT\n",
    "sns.countplot(train_df['class'],palette='viridis')\n",
    "plt.title('Images per type',)\n",
    "plt.ylabel('Number of images')\n",
    "plt.xlabel('Tools Name')\n",
    "plt.tight_layout()"
   ]
  },
  {
   "cell_type": "code",
   "execution_count": null,
   "metadata": {
    "colab": {
     "base_uri": "https://localhost:8080/",
     "height": 251
    },
    "executionInfo": {
     "elapsed": 371,
     "status": "error",
     "timestamp": 1655575738517,
     "user": {
      "displayName": "이승훈",
      "userId": "17172641980192665126"
     },
     "user_tz": -540
    },
    "id": "1aBtxZyCgaFD",
    "outputId": "b652c2b3-1fe1-4a36-91ee-f0285f95a16a"
   },
   "outputs": [],
   "source": [
    "# PICK A RANDOM SPORTS\n",
    "x = random.randint(0,len(train_df['class'].unique()))\n",
    "random_sport = sports_labels[x]\n",
    "\n",
    "sports_show = train_df[train_df['class']==random_sport]\n",
    "print(f'The selected sport to display various images is {random_sport.upper()}')\n",
    "sports_show.head()"
   ]
  },
  {
   "cell_type": "code",
   "execution_count": null,
   "metadata": {
    "colab": {
     "base_uri": "https://localhost:8080/",
     "height": 431
    },
    "executionInfo": {
     "elapsed": 15770,
     "status": "ok",
     "timestamp": 1655435526685,
     "user": {
      "displayName": "이승훈",
      "userId": "17172641980192665126"
     },
     "user_tz": -540
    },
    "id": "de7rsEyWgaHo",
    "outputId": "fb5ca510-31e3-4e04-8ed7-7114fcd5e38f"
   },
   "outputs": [],
   "source": [
    "# DISPLAY THE SPORTS IMAGES --- > NOTICE THE VARIATION IN THE IMAGES OF THE SAME SPORT\n",
    "n_rows = 3\n",
    "n_cols = 4\n",
    "\n",
    "for row in range(n_rows):\n",
    "    for col in range(n_cols):\n",
    "        index = n_cols * row + col\n",
    "        plt.subplot(n_rows,n_cols,index+1)\n",
    "        # PICK RANDOM IMAGES OF THE SELECTED SPORT\n",
    "        sport_img = random.randint(0,len(sports_show))\n",
    "        image_ = plt.imread(os.path.join(TRAIN_IMAGES,sports_show.iloc[sport_img]['file_name']))\n",
    "        # DISPLAY THE IMAGE\n",
    "        plt.imshow(image_,cmap='binary',interpolation='nearest')\n",
    "        #plt.axis('off')\n",
    "        rcParams['axes.titlesize']= 12\n",
    "        #plt.title(random_sport)  "
   ]
  },
  {
   "cell_type": "code",
   "execution_count": null,
   "metadata": {
    "executionInfo": {
     "elapsed": 504,
     "status": "ok",
     "timestamp": 1655688403537,
     "user": {
      "displayName": "이승훈",
      "userId": "17172641980192665126"
     },
     "user_tz": -540
    },
    "id": "oKLlrEfYgjX8"
   },
   "outputs": [],
   "source": [
    "IMAGE_SHAPE = (224,224,3)"
   ]
  },
  {
   "cell_type": "code",
   "execution_count": null,
   "metadata": {
    "executionInfo": {
     "elapsed": 2311,
     "status": "ok",
     "timestamp": 1655688406310,
     "user": {
      "displayName": "이승훈",
      "userId": "17172641980192665126"
     },
     "user_tz": -540
    },
    "id": "k-ZwRQ2Bgjag"
   },
   "outputs": [],
   "source": [
    "# IMPORT THE REQUIRED KERAS LIBRARIES FOR IMAGE AUGMENTATION\n",
    "from tensorflow.keras.preprocessing.image import ImageDataGenerator"
   ]
  },
  {
   "cell_type": "code",
   "execution_count": null,
   "metadata": {
    "executionInfo": {
     "elapsed": 27,
     "status": "ok",
     "timestamp": 1655688406311,
     "user": {
      "displayName": "이승훈",
      "userId": "17172641980192665126"
     },
     "user_tz": -540
    },
    "id": "fp57RUFagjdI"
   },
   "outputs": [],
   "source": [
    "#from tensorflow.keras.applications.resnet50 import preprocess_input\n",
    "from tensorflow.keras.applications.xception import preprocess_input"
   ]
  },
  {
   "cell_type": "code",
   "execution_count": null,
   "metadata": {
    "executionInfo": {
     "elapsed": 319,
     "status": "ok",
     "timestamp": 1655688408804,
     "user": {
      "displayName": "이승훈",
      "userId": "17172641980192665126"
     },
     "user_tz": -540
    },
    "id": "apPG1OmQgjfp"
   },
   "outputs": [],
   "source": [
    "image_generator = ImageDataGenerator(    \n",
    "    featurewise_center=False,\n",
    "    samplewise_center=False,\n",
    "    featurewise_std_normalization=False,\n",
    "    samplewise_std_normalization=False,\n",
    "    zca_whitening=False,\n",
    "    zca_epsilon=1e-06,\n",
    "    rotation_range=0.1,\n",
    "    width_shift_range=0.1,\n",
    "    height_shift_range=0.1,\n",
    "    brightness_range=None,\n",
    "    shear_range=0.5,\n",
    "    zoom_range=[0.5,1.8],\n",
    "    channel_shift_range=0.0,\n",
    "    fill_mode='nearest',\n",
    "    cval=0.0,\n",
    "    horizontal_flip=True,\n",
    "    vertical_flip=False,\n",
    "    rescale=1./255,\n",
    "    preprocessing_function=preprocess_input,\n",
    "    data_format=None,\n",
    "    validation_split=0.2,\n",
    "    dtype= 'float32'\n",
    ")"
   ]
  },
  {
   "cell_type": "code",
   "execution_count": null,
   "metadata": {
    "colab": {
     "base_uri": "https://localhost:8080/",
     "height": 450
    },
    "executionInfo": {
     "elapsed": 1292,
     "status": "ok",
     "timestamp": 1655531682835,
     "user": {
      "displayName": "이승훈",
      "userId": "17172641980192665126"
     },
     "user_tz": -540
    },
    "id": "H6tkanrxgjiT",
    "outputId": "4e9d4956-cdd8-4213-b76a-afac6e979716"
   },
   "outputs": [],
   "source": [
    "# DISPLAY THE ORIGINAL AND THE GENERATED IMAGES\n",
    "image = imread(os.path.join(TRAIN_IMAGES,'img00011.png'))\n",
    "plt.imshow(image)"
   ]
  },
  {
   "cell_type": "code",
   "execution_count": null,
   "metadata": {
    "colab": {
     "base_uri": "https://localhost:8080/",
     "height": 450
    },
    "executionInfo": {
     "elapsed": 900,
     "status": "ok",
     "timestamp": 1655397082079,
     "user": {
      "displayName": "이승훈",
      "userId": "17172641980192665126"
     },
     "user_tz": -540
    },
    "id": "siWmrKpQgjk8",
    "outputId": "95e3b52d-bd3a-48e7-d1d0-221a25e8480f"
   },
   "outputs": [],
   "source": [
    "gen_image = image_generator.random_transform(image)\n",
    "plt.imshow(gen_image)"
   ]
  },
  {
   "cell_type": "code",
   "execution_count": null,
   "metadata": {
    "executionInfo": {
     "elapsed": 362,
     "status": "ok",
     "timestamp": 1655688416655,
     "user": {
      "displayName": "이승훈",
      "userId": "17172641980192665126"
     },
     "user_tz": -540
    },
    "id": "nPCL0A29gjnq"
   },
   "outputs": [],
   "source": [
    "# DEFINE THE BATCH SIZE - --- > THIS IS USED AS AN INPUT WHILE FITTING THE MODEL USING GENERATORS\n",
    "BATCH_SIZE = 8 "
   ]
  },
  {
   "cell_type": "code",
   "execution_count": null,
   "metadata": {
    "colab": {
     "base_uri": "https://localhost:8080/"
    },
    "executionInfo": {
     "elapsed": 358,
     "status": "ok",
     "timestamp": 1655688420891,
     "user": {
      "displayName": "이승훈",
      "userId": "17172641980192665126"
     },
     "user_tz": -540
    },
    "id": "knc_9TSFgjqV",
    "outputId": "a7fb389e-94b5-44e2-f2ff-40815617c6e5"
   },
   "outputs": [],
   "source": [
    "# CREATE THE TRAINING GENERATOR \n",
    "train_generator = image_generator.flow_from_dataframe(dataframe=train_df,\n",
    "                                                      directory=TRAIN_IMAGES,\n",
    "                                                      x_col='file_name',\n",
    "                                                      y_col='class',\n",
    "                                                      subset='training',\n",
    "                                                      color_mode='rgb',\n",
    "                                                      batch_size=BATCH_SIZE,\n",
    "                                                      seed=42,\n",
    "                                                      shuffle=True,\n",
    "                                                      class_mode='categorical',\n",
    "                                                      target_size=(224,224))\n",
    "\n",
    "train_generator"
   ]
  },
  {
   "cell_type": "code",
   "execution_count": null,
   "metadata": {
    "colab": {
     "base_uri": "https://localhost:8080/"
    },
    "executionInfo": {
     "elapsed": 443,
     "status": "ok",
     "timestamp": 1655688425107,
     "user": {
      "displayName": "이승훈",
      "userId": "17172641980192665126"
     },
     "user_tz": -540
    },
    "id": "LEw3Xkwtgjs6",
    "outputId": "d93b36b7-4eac-4c78-9b95-99553759ed67"
   },
   "outputs": [],
   "source": [
    "# CREATE THE VALIDATION GENERATOR \n",
    "validation_generator = image_generator.flow_from_dataframe(dataframe=test_df,\n",
    "                                                           directory=VAL_IMAGES,\n",
    "                                                           x_col='file_name',\n",
    "                                                           y_col='class',\n",
    "                                                           subset='validation',\n",
    "                                                           color_mode='rgb',\n",
    "                                                           batch_size=BATCH_SIZE, \n",
    "                                                           seed=42,\n",
    "                                                           shuffle=False, \n",
    "                                                           class_mode='categorical',\n",
    "                                                           target_size=(224,224))\n",
    "\n",
    "validation_generator"
   ]
  },
  {
   "cell_type": "code",
   "execution_count": null,
   "metadata": {
    "colab": {
     "base_uri": "https://localhost:8080/"
    },
    "executionInfo": {
     "elapsed": 403,
     "status": "ok",
     "timestamp": 1655696842575,
     "user": {
      "displayName": "이승훈",
      "userId": "17172641980192665126"
     },
     "user_tz": -540
    },
    "id": "7hvv9YBagjvN",
    "outputId": "9932ec64-fe89-4049-c426-cc86a15150d3"
   },
   "outputs": [],
   "source": [
    "# TEST GENERATOR ... NO SHUFFLE & CLASS MODE SET TO NONE\n",
    "test_generator = image_generator.flow_from_dataframe(dataframe=test_df,\n",
    "                                                     directory=TEST_IMAGES,\n",
    "                                                     x_col='file_name',\n",
    "                                                     y_col=None,\n",
    "                                                     batch_size=BATCH_SIZE,\n",
    "                                                     color_mode='rgb',\n",
    "                                                     seed=42,\n",
    "                                                     shuffle=False, \n",
    "                                                     class_mode=None,\n",
    "                                                     target_size=(224,224))\n",
    "\n",
    "test_generator"
   ]
  },
  {
   "cell_type": "code",
   "execution_count": null,
   "metadata": {
    "executionInfo": {
     "elapsed": 310,
     "status": "ok",
     "timestamp": 1655688446097,
     "user": {
      "displayName": "이승훈",
      "userId": "17172641980192665126"
     },
     "user_tz": -540
    },
    "id": "M3dD7f5Og0Wm"
   },
   "outputs": [],
   "source": [
    "## IMPORT THE LIBRARIES\n",
    "\n",
    "from tensorflow import keras\n",
    "from tensorflow.keras.utils import Sequence\n",
    "from tensorflow.keras.utils  import to_categorical\n",
    "from tensorflow.keras.models import Sequential, Model\n",
    "from tensorflow.keras.optimizers import SGD,Adam\n",
    "from tensorflow.keras.layers import Dense,Dropout,Conv2D,MaxPool2D,AvgPool2D,GlobalMaxPool2D,Flatten,MaxPooling2D\n",
    "from tensorflow.keras.layers import BatchNormalization\n",
    "from tensorflow.keras.applications.vgg16 import VGG16\n",
    "from tensorflow.keras.applications.resnet50 import ResNet50\n",
    "from tensorflow.keras.applications.xception import Xception\n",
    "from tensorflow.keras.callbacks import EarlyStopping,ReduceLROnPlateau\n",
    "from tensorflow.keras.callbacks import CSVLogger"
   ]
  },
  {
   "cell_type": "code",
   "execution_count": null,
   "metadata": {
    "executionInfo": {
     "elapsed": 314,
     "status": "ok",
     "timestamp": 1655688646749,
     "user": {
      "displayName": "이승훈",
      "userId": "17172641980192665126"
     },
     "user_tz": -540
    },
    "id": "ByTTh0x3g0Zm"
   },
   "outputs": [],
   "source": [
    "trial = 4"
   ]
  },
  {
   "cell_type": "code",
   "execution_count": null,
   "metadata": {
    "colab": {
     "base_uri": "https://localhost:8080/"
    },
    "executionInfo": {
     "elapsed": 4597,
     "status": "ok",
     "timestamp": 1655688652836,
     "user": {
      "displayName": "이승훈",
      "userId": "17172641980192665126"
     },
     "user_tz": -540
    },
    "id": "-9nZF4LEg0cq",
    "outputId": "0675c19f-44c2-488e-ae8f-69d63fe35524"
   },
   "outputs": [],
   "source": [
    "if trial==1: # Basic Model\n",
    "    ## DEFINE THE BASIC MODEL\n",
    "    model =  Sequential()\n",
    "\n",
    "    # ADD CONVOLUTIONAL LAYERS and MaxPooling Layer -- > Typical CNN Model\n",
    "    model.add(Conv2D(filters=32,kernel_size=(7,7),input_shape=IMAGE_SHAPE,strides=1,padding='same',activation='relu'))\n",
    "    model.add(MaxPool2D(pool_size=(2,2)))\n",
    "        \n",
    "    model.add(Conv2D(filters=64,kernel_size=(3,3),strides=1,padding='same',activation='relu'))\n",
    "    model.add(MaxPooling2D(pool_size=(2,2)))\n",
    "    model.add(Conv2D(filters=128,kernel_size=(3,3),strides=1,padding='same',activation='relu'))\n",
    "    model.add(MaxPooling2D(pool_size=(2,2)))\n",
    "        \n",
    "    model.add(Conv2D(filters=256,kernel_size=(3,3),strides=1,padding='same',activation='relu'))\n",
    "    model.add(MaxPooling2D(pool_size=(2,2)))\n",
    "        \n",
    "    # ADD DENSE LAYERS\n",
    "    model.add(Flatten())\n",
    "    model.add(Dense(units=512,activation='relu'))\n",
    "    model.add(Dense(units=128,activation='relu'))\n",
    "    model.add(Dropout(0.5))\n",
    "    model.add(Dense(units=11,activation='softmax'))\n",
    "    \n",
    "    \n",
    "    # COMPILE THE BASIC MODEL \n",
    "    model.compile(optimizer='adam',loss='categorical_crossentropy',metrics=['accuracy'])  \n",
    "    # PRINT MODEL SUMMARY\n",
    "    print('BASIC MODEL')\n",
    "    model.summary()\n",
    "    \n",
    "elif trial==2: # Batch Normalization plus selu actiovation and lecun-normal kernel initializer\n",
    "    model = Sequential()\n",
    "    \n",
    "    # Add the CNN layers \n",
    "    model.add(Conv2D(filters=32,input_shape=IMAGE_SHAPE,padding='same',kernel_size=(3,3),activation='relu'))\n",
    "    model.add(MaxPooling2D(2,2))\n",
    "    \n",
    "    model.add(Conv2D(filters=64,padding='same',kernel_size=(3,3),activation='relu'))\n",
    "    model.add(MaxPooling2D(2,2))\n",
    "    model.add(Conv2D(filters=128,padding='same',kernel_size=(3,3),activation='relu'))\n",
    "    model.add(MaxPooling2D(2,2))\n",
    "    \n",
    "    # ADD THE DNN LAYERS\n",
    "    model.add(Flatten()) # 여기가 뭐지???\n",
    "    model.add(BatchNormalization())\n",
    "    \n",
    "    model.add(Dense(units=256,activation='selu',kernel_initializer='lecun_normal',use_bias=False))\n",
    "    model.add(BatchNormalization())\n",
    "    \n",
    "    model.add(Dense(units=128,activation='selu',kernel_initializer='lecun_normal',use_bias=False))\n",
    "    model.add(BatchNormalization())\n",
    "    \n",
    "    model.add(Dense(units=64,activation='selu',kernel_initializer='lecun_normal',use_bias=False))\n",
    "    model.add(BatchNormalization())\n",
    "    model.add(Dense(units=32,activation='selu',kernel_initializer='lecun_normal',use_bias=False))\n",
    "    model.add(BatchNormalization())\n",
    "    \n",
    "    model.add(Dense(units=11,activation='softmax'))\n",
    "    \n",
    "    # COMPILE THE MODEL\n",
    "    model.compile(optimizer='adam',loss='categorical_crossentropy',metrics=['accuracy'])\n",
    "    \n",
    "    print('Model with Batch Normalization')\n",
    "    model.summary()\n",
    "    \n",
    "elif trial==3:    # VGG16 Pre Trained Model - SGD as well as Adam -- > Adam performs faster and returns better accuracy\n",
    "    base_model = VGG16(include_top=False,input_shape=(224,224,3),weights='imagenet')\n",
    "    # mark loaded layers as not trainable\n",
    "    for layer in base_model.layers:\n",
    "        layer.trainable = False\n",
    "    # add new classification layers\n",
    "    flat1 = Flatten()(base_model.layers[-1].output)\n",
    "    class1 = Dense(512,activation='relu',kernel_initializer='he_normal')(flat1)\n",
    "    class2 = Dense(256,activation='relu',kernel_initializer='he_normal')(class1)\n",
    "    class3 = Dense(128,activation='relu',kernel_initializer='he_normal')(class2)\n",
    "    output = Dense(11,activation='softmax')(class3)\n",
    "    # define new model\n",
    "    model = Model(inputs=base_model.inputs,outputs=output)\n",
    "    #compile the model\n",
    "    # opt = SGD(lr=0.001,momentum=0.9,nesterov=True)\n",
    "    opt = Adam(lr=0.00001)\n",
    "    model.compile(optimizer=opt,loss='categorical_crossentropy',metrics='accuracy')\n",
    "    print('Transfer Learning based on VGG16')\n",
    "    model.summary()\n",
    "    \n",
    "else:\n",
    "    base_model = Xception(include_top=False,input_shape=(224,224,3),weights='imagenet')\n",
    "    # mark loaded layers as not trainable\n",
    "    for layer in base_model.layers:\n",
    "        layer.trainable = False\n",
    "    # add new classification layers\n",
    "    #avg = keras.layers.GlobalAveragePooling2D()(base_model.output)\n",
    "    flat1 = Flatten()(base_model.layers[-1].output)\n",
    "    class1 = Dense(512,activation='relu',kernel_initializer='he_normal')(flat1)\n",
    "    class2 = Dense(256,activation='relu',kernel_initializer='he_normal')(class1)\n",
    "    class3 = Dense(128,activation='relu',kernel_initializer='he_normal')(class2)\n",
    "    output = Dense(11,activation='softmax')(class3)\n",
    "     # define new model\n",
    "    model = Model(inputs=base_model.inputs,outputs=output)\n",
    "    #compile the model\n",
    "    # opt = SGD(lr=0.001,momentum=0.9,nesterov=True)\n",
    "    opt = Adam(lr=0.00001) # learning rate 도 손봐야된다아\n",
    "    model.compile(optimizer=opt,loss='categorical_crossentropy',metrics='accuracy')\n",
    "    \n",
    "    print('Transfer Learning based on Xception Module')\n",
    "    model.summary() "
   ]
  },
  {
   "cell_type": "code",
   "execution_count": null,
   "metadata": {
    "executionInfo": {
     "elapsed": 501,
     "status": "ok",
     "timestamp": 1655688657858,
     "user": {
      "displayName": "이승훈",
      "userId": "17172641980192665126"
     },
     "user_tz": -540
    },
    "id": "X7zSQyveg0fY"
   },
   "outputs": [],
   "source": [
    "# DEFINE CALLBACKS ---- > EARLY STOP AND REDUCE LEARNING RATE ON PLATEAU\n",
    "early_stop = EarlyStopping(patience=15,monitor='val_loss',restore_best_weights=True)"
   ]
  },
  {
   "cell_type": "code",
   "execution_count": null,
   "metadata": {
    "executionInfo": {
     "elapsed": 325,
     "status": "ok",
     "timestamp": 1655688659381,
     "user": {
      "displayName": "이승훈",
      "userId": "17172641980192665126"
     },
     "user_tz": -540
    },
    "id": "XOcDnWTJg0iB"
   },
   "outputs": [],
   "source": [
    "# DEFINE THE STEPS_PER_EPOCH\n",
    "STEP_SIZE_TRAIN = (train_generator.n // train_generator.batch_size)   \n",
    "STEP_SIZE_VALIDATION = (validation_generator.n // validation_generator.batch_size)   # 가진 데이터 수보다 배치 사이즈가 커서 검증이 안되어서 warning이 뜬거였어...\n",
    "STEP_SIZE_TEST = (test_generator.n // test_generator.batch_size) "
   ]
  },
  {
   "cell_type": "code",
   "execution_count": null,
   "metadata": {
    "colab": {
     "base_uri": "https://localhost:8080/"
    },
    "executionInfo": {
     "elapsed": 1880926,
     "status": "ok",
     "timestamp": 1655690544254,
     "user": {
      "displayName": "이승훈",
      "userId": "17172641980192665126"
     },
     "user_tz": -540
    },
    "id": "0uR4Yl8EhH9j",
    "outputId": "23942275-8be5-4e19-829a-a3fd48cb327f"
   },
   "outputs": [],
   "source": [
    " # TRAIN THE MODEL \n",
    "\n",
    "model.fit(train_generator, validation_data=validation_generator, \n",
    "steps_per_epoch=STEP_SIZE_TRAIN, validation_steps=STEP_SIZE_VALIDATION,\n",
    "callbacks=[early_stop], \n",
    "epochs=40)\n",
    "\n"
   ]
  },
  {
   "cell_type": "code",
   "execution_count": null,
   "metadata": {
    "colab": {
     "base_uri": "https://localhost:8080/"
    },
    "executionInfo": {
     "elapsed": 6208379,
     "status": "ok",
     "timestamp": 1655696762224,
     "user": {
      "displayName": "이승훈",
      "userId": "17172641980192665126"
     },
     "user_tz": -540
    },
    "id": "XE5cST8-hIAL",
    "outputId": "4e40e145-71f8-475c-91ae-ad93b149d03f"
   },
   "outputs": [],
   "source": [
    "base_model.trainable = True\n",
    "opt = Adam(lr=0.000001)\n",
    "model.compile(optimizer=opt,loss='categorical_crossentropy',metrics='accuracy')\n",
    "\n",
    "\n",
    "model.fit_generator(generator=train_generator,\n",
    "                   steps_per_epoch=STEP_SIZE_TRAIN,\n",
    "                   validation_data=validation_generator,\n",
    "                   validation_steps=STEP_SIZE_VALIDATION,\n",
    "                   epochs=16,\n",
    "                   callbacks=[early_stop])"
   ]
  },
  {
   "cell_type": "code",
   "execution_count": null,
   "metadata": {
    "colab": {
     "base_uri": "https://localhost:8080/"
    },
    "executionInfo": {
     "elapsed": 3937,
     "status": "ok",
     "timestamp": 1655696766546,
     "user": {
      "displayName": "이승훈",
      "userId": "17172641980192665126"
     },
     "user_tz": -540
    },
    "id": "16ABmxgdhIC_",
    "outputId": "30dfdb02-8cd8-4548-86b8-1c0e5704e395"
   },
   "outputs": [],
   "source": [
    "# EVALUATE THE MODEL \n",
    "model.evaluate_generator(generator=validation_generator)"
   ]
  },
  {
   "cell_type": "code",
   "execution_count": null,
   "metadata": {
    "id": "qbDGFOWvhIFm"
   },
   "outputs": [],
   "source": [
    "data_generator = ImageDataGenerator(    \n",
    "    featurewise_center=False,\n",
    "    samplewise_center=False,\n",
    "    featurewise_std_normalization=False,\n",
    "    samplewise_std_normalization=False,\n",
    "    zca_whitening=False,\n",
    "    zca_epsilon=1e-06,\n",
    "    rotation_range=0.1,\n",
    "    width_shift_range=0.1,\n",
    "    height_shift_range=0.1,\n",
    "    brightness_range=None,\n",
    "    shear_range=0.5,\n",
    "    zoom_range=[0.5,1.8],\n",
    "    channel_shift_range=0.0,\n",
    "    fill_mode='nearest',\n",
    "    cval=0.0,\n",
    "    horizontal_flip=True,\n",
    "    vertical_flip=False,\n",
    "    rescale=1./255,\n",
    "    preprocessing_function=preprocess_input,\n",
    "    data_format=None,\n",
    "    validation_split=0.0,\n",
    "    dtype= 'float32'\n",
    ") "
   ]
  },
  {
   "cell_type": "code",
   "execution_count": null,
   "metadata": {
    "colab": {
     "base_uri": "https://localhost:8080/"
    },
    "executionInfo": {
     "elapsed": 309,
     "status": "ok",
     "timestamp": 1655591248850,
     "user": {
      "displayName": "이승훈",
      "userId": "17172641980192665126"
     },
     "user_tz": -540
    },
    "id": "Gp53rG5rhIIT",
    "outputId": "bf5685ca-a73b-4ed1-a131-93c6d2fc89fd"
   },
   "outputs": [],
   "source": [
    "train_generator_full = data_generator.flow_from_dataframe(dataframe=train_df,\n",
    "                                                      directory=TRAIN_IMAGES,\n",
    "                                                      x_col='file_name',\n",
    "                                                      y_col='class',\n",
    "                                                      subset='training',\n",
    "                                                      color_mode='rgb',\n",
    "                                                      batch_size=BATCH_SIZE,\n",
    "                                                      seed=42,\n",
    "                                                      shuffle=True, \n",
    "                                                      class_mode='categorical',\n",
    "                                                      target_size=(224,224))\n",
    "\n",
    "train_generator_full"
   ]
  },
  {
   "cell_type": "code",
   "execution_count": null,
   "metadata": {
    "colab": {
     "base_uri": "https://localhost:8080/"
    },
    "executionInfo": {
     "elapsed": 6780673,
     "status": "ok",
     "timestamp": 1655607629361,
     "user": {
      "displayName": "이승훈",
      "userId": "17172641980192665126"
     },
     "user_tz": -540
    },
    "id": "avLG3PhlhRkD",
    "outputId": "c54ff73c-4650-41d3-90f8-c58f2689a913"
   },
   "outputs": [],
   "source": [
    "model.fit(train_generator_full,\n",
    "                   steps_per_epoch=train_generator_full.n//train_generator_full.batch_size,\n",
    "                   epochs=20,\n",
    "                   callbacks=[early_stop]\n",
    "                   )"
   ]
  },
  {
   "cell_type": "code",
   "execution_count": null,
   "metadata": {},
   "outputs": [],
   "source": [
    "model.save('/content/drive/MyDrive/JAVIS.h5')"
   ]
  },
  {
   "cell_type": "code",
   "execution_count": null,
   "metadata": {
    "executionInfo": {
     "elapsed": 11,
     "status": "ok",
     "timestamp": 1655696766546,
     "user": {
      "displayName": "이승훈",
      "userId": "17172641980192665126"
     },
     "user_tz": -540
    },
    "id": "Y4LVlAuYhU0S"
   },
   "outputs": [],
   "source": [
    "# RESET THE GENERATOR TO GET THE RESULTS IN THE RIGHT ORDER\n",
    "test_generator.reset()\n"
   ]
  },
  {
   "cell_type": "code",
   "execution_count": null,
   "metadata": {
    "colab": {
     "base_uri": "https://localhost:8080/"
    },
    "executionInfo": {
     "elapsed": 69309,
     "status": "ok",
     "timestamp": 1655696920117,
     "user": {
      "displayName": "이승훈",
      "userId": "17172641980192665126"
     },
     "user_tz": -540
    },
    "id": "jT-B1PTPhU2q",
    "outputId": "35155334-25e2-44d6-b8b4-ecd0f3e5ebd0"
   },
   "outputs": [],
   "source": [
    "# GENERATE PREDICTIONS ON THE TEST DATA\n",
    "predictions = model.predict_generator(test_generator)"
   ]
  },
  {
   "cell_type": "code",
   "execution_count": null,
   "metadata": {
    "executionInfo": {
     "elapsed": 28,
     "status": "ok",
     "timestamp": 1655696920117,
     "user": {
      "displayName": "이승훈",
      "userId": "17172641980192665126"
     },
     "user_tz": -540
    },
    "id": "LjFZ8tizhU52"
   },
   "outputs": [],
   "source": [
    "# RETRIEVE THE CLASS INDEX FOR WHICH THE PROBABILITY IS MAXIMUM ...hence np.argmax\n",
    "predictions_class_index = np.argmax(predictions,axis=1)"
   ]
  },
  {
   "cell_type": "code",
   "execution_count": null,
   "metadata": {
    "colab": {
     "base_uri": "https://localhost:8080/"
    },
    "executionInfo": {
     "elapsed": 26,
     "status": "ok",
     "timestamp": 1655696920118,
     "user": {
      "displayName": "이승훈",
      "userId": "17172641980192665126"
     },
     "user_tz": -540
    },
    "id": "q-1jYecthU8Y",
    "outputId": "13ffbd77-93d2-421b-f592-ebfd0f96d2db"
   },
   "outputs": [],
   "source": [
    "# CHECK THE PREDICTED CLASS INDICES\n",
    "predictions_class_index"
   ]
  },
  {
   "cell_type": "code",
   "execution_count": null,
   "metadata": {
    "executionInfo": {
     "elapsed": 23,
     "status": "ok",
     "timestamp": 1655696920118,
     "user": {
      "displayName": "이승훈",
      "userId": "17172641980192665126"
     },
     "user_tz": -540
    },
    "id": "vFuMeJWdhU-_"
   },
   "outputs": [],
   "source": [
    "# EXTRACT THE PREDICTION LABELS\n",
    "label = (train_generator.class_indices)\n",
    "label = dict((v,k) for k,v in label.items())\n",
    "final_predictions = [label[k] for k in predictions_class_index]"
   ]
  },
  {
   "cell_type": "code",
   "execution_count": null,
   "metadata": {
    "colab": {
     "base_uri": "https://localhost:8080/"
    },
    "executionInfo": {
     "elapsed": 23,
     "status": "ok",
     "timestamp": 1655696920119,
     "user": {
      "displayName": "이승훈",
      "userId": "17172641980192665126"
     },
     "user_tz": -540
    },
    "id": "5y5P4aAahRmu",
    "outputId": "06463af8-e69c-4073-abd1-b51b4960651e"
   },
   "outputs": [],
   "source": [
    "# LIST THE FINAL PREDICTED LABELS\n",
    "final_predictions"
   ]
  },
  {
   "cell_type": "code",
   "execution_count": null,
   "metadata": {
    "colab": {
     "base_uri": "https://localhost:8080/"
    },
    "executionInfo": {
     "elapsed": 17,
     "status": "ok",
     "timestamp": 1655696920119,
     "user": {
      "displayName": "이승훈",
      "userId": "17172641980192665126"
     },
     "user_tz": -540
    },
    "id": "ynSz5YwMhRpq",
    "outputId": "2aa173fb-3428-43ec-ecd5-4a24951f809e"
   },
   "outputs": [],
   "source": [
    "len(final_predictions)"
   ]
  },
  {
   "cell_type": "code",
   "execution_count": null,
   "metadata": {
    "executionInfo": {
     "elapsed": 9,
     "status": "ok",
     "timestamp": 1655696920119,
     "user": {
      "displayName": "이승훈",
      "userId": "17172641980192665126"
     },
     "user_tz": -540
    },
    "id": "8y8AtDY3wN0s"
   },
   "outputs": [],
   "source": [
    "# PREPARE FOR SUBMISSION\n",
    "filenames=test_generator.filenames\n",
    "results=pd.DataFrame({\"file_name\":filenames,\n",
    "                      \"class\":final_predictions})\n",
    "results.to_csv(\"submission.csv\",index=False)"
   ]
  },
  {
   "cell_type": "code",
   "execution_count": null,
   "metadata": {
    "colab": {
     "base_uri": "https://localhost:8080/",
     "height": 424
    },
    "executionInfo": {
     "elapsed": 309,
     "status": "ok",
     "timestamp": 1655696930781,
     "user": {
      "displayName": "이승훈",
      "userId": "17172641980192665126"
     },
     "user_tz": -540
    },
    "id": "kdXC8yU8kab5",
    "outputId": "d94e0768-64bc-4182-a72b-6acdfc1f979e"
   },
   "outputs": [],
   "source": [
    "final_df = pd.read_csv('/content/submission.csv')\n",
    "final_df"
   ]
  },
  {
   "cell_type": "code",
   "execution_count": null,
   "metadata": {
    "colab": {
     "base_uri": "https://localhost:8080/",
     "height": 424
    },
    "executionInfo": {
     "elapsed": 418,
     "status": "ok",
     "timestamp": 1655696934331,
     "user": {
      "displayName": "이승훈",
      "userId": "17172641980192665126"
     },
     "user_tz": -540
    },
    "id": "_LBXR4_xkaed",
    "outputId": "5387af96-3fcd-4170-cb76-ce150e4850e8"
   },
   "outputs": [],
   "source": [
    "compare_df = pd.read_csv('/content/drive/MyDrive/Term_Test/test_data_emp.csv', index_col='Unnamed: 0')\n",
    "compare_df"
   ]
  },
  {
   "cell_type": "code",
   "execution_count": null,
   "metadata": {
    "colab": {
     "base_uri": "https://localhost:8080/"
    },
    "executionInfo": {
     "elapsed": 1204,
     "status": "ok",
     "timestamp": 1655696940134,
     "user": {
      "displayName": "이승훈",
      "userId": "17172641980192665126"
     },
     "user_tz": -540
    },
    "id": "53SziiVhkag9",
    "outputId": "b11e9a10-8bb1-4329-8686-1d80f520245e"
   },
   "outputs": [],
   "source": [
    "for i in range(0, len(final_predictions)):\n",
    "  for j in range(0, len(final_predictions)):\n",
    "    if(final_df['file_name'][i] == compare_df['file_name'][j]):\n",
    "      compare_df['class'][j]=final_df['class'][i]"
   ]
  },
  {
   "cell_type": "code",
   "execution_count": null,
   "metadata": {
    "colab": {
     "base_uri": "https://localhost:8080/",
     "height": 424
    },
    "executionInfo": {
     "elapsed": 416,
     "status": "ok",
     "timestamp": 1655696944770,
     "user": {
      "displayName": "이승훈",
      "userId": "17172641980192665126"
     },
     "user_tz": -540
    },
    "id": "eWH_xYpmkh63",
    "outputId": "f52bc11e-e3fc-453d-878e-706842961982"
   },
   "outputs": [],
   "source": [
    "compare_df"
   ]
  },
  {
   "cell_type": "code",
   "execution_count": null,
   "metadata": {
    "executionInfo": {
     "elapsed": 409,
     "status": "ok",
     "timestamp": 1655696948765,
     "user": {
      "displayName": "이승훈",
      "userId": "17172641980192665126"
     },
     "user_tz": -540
    },
    "id": "sVPkr7jOhhBz"
   },
   "outputs": [],
   "source": [
    "compare_df.to_csv(\"JAVIS.csv\",index=True)"
   ]
  }
 ],
 "metadata": {
  "colab": {
   "authorship_tag": "ABX9TyMuzL6WWPKSR/QIsxvpDZ4M",
   "collapsed_sections": [],
   "machine_shape": "hm",
   "mount_file_id": "14HjyaD59qMXxMTDNCuYkQbzYweDIQ40H",
   "name": "ai활용표현모델만들기.ipynb",
   "provenance": []
  },
  "gpuClass": "standard",
  "kernelspec": {
   "display_name": "Python 3",
   "name": "python3"
  },
  "language_info": {
   "name": "python"
  }
 },
 "nbformat": 4,
 "nbformat_minor": 0
}
